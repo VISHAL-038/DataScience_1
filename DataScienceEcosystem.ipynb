{
 "cells": [
  {
   "cell_type": "markdown",
   "id": "da600684",
   "metadata": {},
   "source": [
    "#  My Data Science Notebook"
   ]
  },
  {
   "cell_type": "markdown",
   "id": "c09110cc",
   "metadata": {},
   "source": [
    "## Introduction\n",
    "Welcome to my Data Science Notebook! In this notebook, I will explore various data science concepts and demonstrate some basic operations using Python."
   ]
  },
  {
   "cell_type": "markdown",
   "id": "7cd47784",
   "metadata": {},
   "source": [
    "## Data Science Languages\n",
    "- Python\n",
    "- R\n",
    "- SQL\n"
   ]
  },
  {
   "cell_type": "markdown",
   "id": "9c41fbc8",
   "metadata": {},
   "source": [
    "## Data Science Libraries\n",
    "- NumPy\n",
    "- pandas\n",
    "- matplotlib\n",
    "- TesnorFlow\n",
    "- PyTorch"
   ]
  },
  {
   "cell_type": "markdown",
   "id": "a05241e3",
   "metadata": {},
   "source": [
    "## Data Science Tools\n",
    "| Tool         | Description                   |\n",
    "|--------------|-------------------------------|\n",
    "| Jupyter      | Interactive computing         |\n",
    "| scikit-learn | Machine learning in Python    |\n",
    "| TensorFlow   | Open-source machine learning  |\n"
   ]
  },
  {
   "cell_type": "markdown",
   "id": "df70aa5e",
   "metadata": {},
   "source": [
    "## Arithmetic Expression Examples\n",
    " some basic arithmetic operations using Python.\n"
   ]
  },
  {
   "cell_type": "code",
   "execution_count": 1,
   "id": "4ccc7cfb",
   "metadata": {},
   "outputs": [
    {
     "data": {
      "text/plain": [
       "17"
      ]
     },
     "execution_count": 1,
     "metadata": {},
     "output_type": "execute_result"
    }
   ],
   "source": [
    "# Multiply and Add Numbers\n",
    "(3*4)+5"
   ]
  },
  {
   "cell_type": "code",
   "execution_count": 2,
   "id": "d06a67be",
   "metadata": {},
   "outputs": [
    {
     "name": "stdout",
     "output_type": "stream",
     "text": [
      "Hours: 2.0\n"
     ]
    }
   ],
   "source": [
    "# Convert Minutes to Hours\n",
    "minutes = 120\n",
    "hours = minutes / 60\n",
    "print(\"Hours:\", hours)\n"
   ]
  },
  {
   "cell_type": "markdown",
   "id": "6cb5c494",
   "metadata": {},
   "source": [
    "## Objectives\n",
    "- list popular languages and libraries for data science\n",
    "- list data science tools\n",
    "- how to provide comments \n",
    "- use python in jupyter"
   ]
  },
  {
   "cell_type": "markdown",
   "id": "6e33a5fb",
   "metadata": {},
   "source": [
    "## Author\n",
    "Vishal\n"
   ]
  }
 ],
 "metadata": {
  "kernelspec": {
   "display_name": "Python 3 (ipykernel)",
   "language": "python",
   "name": "python3"
  },
  "language_info": {
   "codemirror_mode": {
    "name": "ipython",
    "version": 3
   },
   "file_extension": ".py",
   "mimetype": "text/x-python",
   "name": "python",
   "nbconvert_exporter": "python",
   "pygments_lexer": "ipython3",
   "version": "3.9.7"
  }
 },
 "nbformat": 4,
 "nbformat_minor": 5
}
